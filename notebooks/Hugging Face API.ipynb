{
 "cells": [
  {
   "cell_type": "code",
   "execution_count": 2,
   "id": "46c3f38f-4864-4071-b518-293b5a3f7f5a",
   "metadata": {},
   "outputs": [
    {
     "data": {
      "text/plain": [
       "True"
      ]
     },
     "execution_count": 2,
     "metadata": {},
     "output_type": "execute_result"
    }
   ],
   "source": [
    "# load environment variable from .env file\n",
    "from dotenv import load_dotenv\n",
    "load_dotenv()"
   ]
  },
  {
   "cell_type": "markdown",
   "id": "d957ef80-9865-4ff0-9ff4-63ee68a87296",
   "metadata": {},
   "source": [
    "# **Hugging Face**\n",
    "https://huggingface.co/"
   ]
  },
  {
   "cell_type": "markdown",
   "id": "4b3db606-8bbb-41a0-a802-efcf2cf6ecc5",
   "metadata": {},
   "source": [
    "## Use Chat Models via Hugging Face API (e.g., Meta LLaMA, Mistral)\n",
    "Generate a new token https://huggingface.co/settings/tokens, and store it in your environment variables as HF_TOKEN."
   ]
  },
  {
   "cell_type": "code",
   "execution_count": 3,
   "id": "944972d1-bfbd-4441-95da-e6fe2a0a412a",
   "metadata": {},
   "outputs": [
    {
     "name": "stderr",
     "output_type": "stream",
     "text": [
      "c:\\Users\\aa304\\Downloads\\Gen AI Hands-on\\venv\\Lib\\site-packages\\tqdm\\auto.py:21: TqdmWarning: IProgress not found. Please update jupyter and ipywidgets. See https://ipywidgets.readthedocs.io/en/stable/user_install.html\n",
      "  from .autonotebook import tqdm as notebook_tqdm\n"
     ]
    }
   ],
   "source": [
    "from huggingface_hub import InferenceClient\n",
    "\n",
    "def huggingFace(user_input: str):\n",
    "    client = InferenceClient()\n",
    "    completion = client.chat.completions.create(\n",
    "        model=\"meta-llama/Llama-3.1-8B-Instruct\",\n",
    "        messages=[\n",
    "            {\n",
    "                \"role\": \"user\",\n",
    "                \"content\": user_input\n",
    "            }\n",
    "        ],\n",
    "    )\n",
    "    return completion.choices[0].message.content"
   ]
  },
  {
   "cell_type": "code",
   "execution_count": 4,
   "id": "16cfa543-9f3e-48e6-87ce-b70aa56cb557",
   "metadata": {},
   "outputs": [
    {
     "data": {
      "text/plain": [
       "\"I'm an artificial intelligence model known as a Large Language Model (LLM). I'm a computer program designed to process and generate human-like language. My primary function is to understand and respond to user input, providing information, answering questions, and engaging in conversation.\\n\\nI don't have a personal identity or emotions like humans do, but I'm designed to simulate conversation and provide helpful responses. My training data includes a massive corpus of text from various sources, which I use to generate responses to a wide range of topics and questions.\\n\\nI'm constantly learning and improving my responses based on user interactions and feedback. My goal is to provide accurate, relevant, and helpful information to assist users in their queries and tasks.\\n\\nWhat would you like to talk about or ask me?\""
      ]
     },
     "execution_count": 4,
     "metadata": {},
     "output_type": "execute_result"
    }
   ],
   "source": [
    "huggingFace(\"Introduce yourself.\")"
   ]
  }
 ],
 "metadata": {
  "kernelspec": {
   "display_name": "venv",
   "language": "python",
   "name": "python3"
  },
  "language_info": {
   "codemirror_mode": {
    "name": "ipython",
    "version": 3
   },
   "file_extension": ".py",
   "mimetype": "text/x-python",
   "name": "python",
   "nbconvert_exporter": "python",
   "pygments_lexer": "ipython3",
   "version": "3.13.2"
  }
 },
 "nbformat": 4,
 "nbformat_minor": 5
}
