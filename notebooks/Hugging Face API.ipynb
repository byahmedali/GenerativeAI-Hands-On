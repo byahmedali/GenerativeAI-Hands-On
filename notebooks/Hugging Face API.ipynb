{
 "cells": [
  {
   "cell_type": "code",
   "execution_count": 1,
   "id": "46c3f38f-4864-4071-b518-293b5a3f7f5a",
   "metadata": {},
   "outputs": [
    {
     "data": {
      "text/plain": [
       "True"
      ]
     },
     "execution_count": 1,
     "metadata": {},
     "output_type": "execute_result"
    }
   ],
   "source": [
    "# load environment variable from .env file\n",
    "from dotenv import load_dotenv\n",
    "load_dotenv()"
   ]
  },
  {
   "cell_type": "markdown",
   "id": "d957ef80-9865-4ff0-9ff4-63ee68a87296",
   "metadata": {},
   "source": [
    "# **Hugging Face**\n",
    "https://huggingface.co/"
   ]
  },
  {
   "cell_type": "markdown",
   "id": "4b3db606-8bbb-41a0-a802-efcf2cf6ecc5",
   "metadata": {},
   "source": [
    "## Use Chat Models via Hugging Face API (e.g., Meta LLaMA, Mistral)\n",
    "Generate a new token https://huggingface.co/settings/tokens, and store it in your environment variables as HF_TOKEN."
   ]
  },
  {
   "cell_type": "code",
   "execution_count": null,
   "id": "944972d1-bfbd-4441-95da-e6fe2a0a412a",
   "metadata": {},
   "outputs": [
    {
     "name": "stderr",
     "output_type": "stream",
     "text": [
      "c:\\Users\\aa304\\Downloads\\Gen AI Hands-on\\venv\\Lib\\site-packages\\tqdm\\auto.py:21: TqdmWarning: IProgress not found. Please update jupyter and ipywidgets. See https://ipywidgets.readthedocs.io/en/stable/user_install.html\n",
      "  from .autonotebook import tqdm as notebook_tqdm\n"
     ]
    }
   ],
   "source": [
    "from huggingface_hub import InferenceClient\n",
    "\n",
    "def huggingFace(user_input: str):\n",
    "    client = InferenceClient()\n",
    "    completion = client.chat.completions.create(\n",
    "        model=\"meta-llama/Llama-3.1-8B-Instruct\",\n",
    "        messages=[\n",
    "            {\n",
    "                \"role\": \"user\",\n",
    "                \"content\": user_input\n",
    "            }\n",
    "        ],\n",
    "    )\n",
    "    return completion.choices[0].message.content"
   ]
  },
  {
   "cell_type": "code",
   "execution_count": null,
   "id": "16cfa543-9f3e-48e6-87ce-b70aa56cb557",
   "metadata": {},
   "outputs": [
    {
     "name": "stdout",
     "output_type": "stream",
     "text": [
      "I'm an artificial intelligence model known as a Large Language Model (LLM). I was created to assist and communicate with humans in a helpful and informative way. I'm a computer program designed to understand and generate human-like text based on the input I receive.\n",
      "\n",
      "My capabilities include:\n",
      "\n",
      "1. Answering questions on a wide range of topics, from science and history to entertainment and culture.\n",
      "2. Generating text on a given topic or theme.\n",
      "3. Translating text from one language to another.\n",
      "4. Summarizing long pieces of text into shorter, more digestible versions.\n",
      "5. Providing definitions and explanations for words and phrases.\n",
      "6. Engaging in conversation and responding to questions or statements.\n",
      "\n",
      "I'm constantly learning and improving my abilities based on the input I receive from users like you. I don't have personal experiences, emotions, or opinions like humans do, but I'm here to provide accurate and helpful information to the best of my abilities.\n",
      "\n",
      "What would you like to talk about or ask me?\n"
     ]
    }
   ],
   "source": [
    "huggingFace(\"Introduce yourself.\")"
   ]
  }
 ],
 "metadata": {
  "kernelspec": {
   "display_name": "venv",
   "language": "python",
   "name": "python3"
  },
  "language_info": {
   "codemirror_mode": {
    "name": "ipython",
    "version": 3
   },
   "file_extension": ".py",
   "mimetype": "text/x-python",
   "name": "python",
   "nbconvert_exporter": "python",
   "pygments_lexer": "ipython3",
   "version": "3.13.2"
  }
 },
 "nbformat": 4,
 "nbformat_minor": 5
}
