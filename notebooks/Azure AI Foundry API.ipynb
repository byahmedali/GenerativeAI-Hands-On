{
 "cells": [
  {
   "cell_type": "code",
   "execution_count": 2,
   "id": "46c3f38f-4864-4071-b518-293b5a3f7f5a",
   "metadata": {},
   "outputs": [
    {
     "data": {
      "text/plain": [
       "True"
      ]
     },
     "execution_count": 2,
     "metadata": {},
     "output_type": "execute_result"
    }
   ],
   "source": [
    "# load environment variable from .env file\n",
    "from dotenv import load_dotenv\n",
    "load_dotenv()"
   ]
  },
  {
   "cell_type": "markdown",
   "id": "60c14a0b",
   "metadata": {},
   "source": [
    "# **Azure AI Foundry**\n",
    "https://ai.azure.com/\n",
    "\n",
    "Requires an Azure Subscription."
   ]
  },
  {
   "cell_type": "markdown",
   "id": "22d73787",
   "metadata": {},
   "source": [
    "## Text to Image Generation using `FLUX-1.1-pro`"
   ]
  },
  {
   "cell_type": "markdown",
   "id": "47390753",
   "metadata": {},
   "source": [
    "#### Example prompts\n",
    "- View a magical town from the window of an aeroplane flying low. The town is surrounded by heavenly mountains & huge waterfalls.\n",
    "- Subject: A small town in the middle of heavenly mountains with massive waterfalls during pleasant sunny weather. Foreground: Magical flowers & plants with butterflies from heaven flying close to these flowers.\n",
    "- A small town in the middle of heavenly mountains with massive waterfalls with pleasant sunny weather.\n",
    "- Futuristic neon city at night, cyberpunk style, floating vehicles, holographic advertisements, rain-slicked streets."
   ]
  },
  {
   "cell_type": "code",
   "execution_count": null,
   "id": "833338da",
   "metadata": {},
   "outputs": [
    {
     "name": "stdout",
     "output_type": "stream",
     "text": [
      "Generating...\n",
      "Image saved to: 'heanven_town.png'\n"
     ]
    }
   ],
   "source": [
    "# Install required packages: `pip install requests pillow`\n",
    "import os\n",
    "import requests\n",
    "import base64\n",
    "from PIL import Image\n",
    "from io import BytesIO\n",
    "from IPython.display import display\n",
    "from dotenv import load_dotenv\n",
    "\n",
    "# You will need to set these environment variables or edit the following values.\n",
    "endpoint = os.getenv(\"AZURE_OPENAI_ENDPOINT\", \"https://ats-aifoundry-resource.cognitiveservices.azure.com/openai/deployments/FLUX-1.1-pro/images/generations?api-version=2025-04-01-preview\")\n",
    "deployment = os.getenv(\"DEPLOYMENT_NAME\", \"FLUX-1.1-pro\")\n",
    "api_version = os.getenv(\"OPENAI_API_VERSION\", \"2025-04-01-preview\")\n",
    "subscription_key = os.getenv(\"AZURE_OPENAI_API_KEY\")\n",
    "\n",
    "def decode_and_save_image(b64_data, output_filename):\n",
    "  image = Image.open(BytesIO(base64.b64decode(b64_data)))\n",
    "  image.save(output_filename)\n",
    "  display(image)\n",
    "\n",
    "def save_response(response_data, filename_prefix):\n",
    "  data = response_data['data']\n",
    "  b64_img = data[0]['b64_json']\n",
    "  filename = f\"{filename_prefix}.png\"\n",
    "  decode_and_save_image(b64_img, filename)\n",
    "  print(f\"Image saved to: '{filename}'\")\n",
    "\n",
    "base_path = f'openai/deployments/{deployment}/images'\n",
    "params = f'?api-version={api_version}'\n",
    "\n",
    "prompt = str(input(\"Describe an image to generate: \"))\n",
    "output_file_name = str(input(\"Enter output file name: \"))\n",
    "\n",
    "generation_url = f\"https://ats-aifoundry-resource.cognitiveservices.azure.com/{base_path}/generations{params}\"\n",
    "generation_body = {\n",
    "  \"prompt\": prompt,\n",
    "  \"n\": 1,\n",
    "  \"size\": \"1024x1024\",\n",
    "  \"output_format\": \"png\"\n",
    "}\n",
    "\n",
    "print(\"Generating...\")\n",
    "generation_response = requests.post(\n",
    "  generation_url,\n",
    "  headers={\n",
    "    'Api-Key': subscription_key,\n",
    "    'Content-Type': 'application/json',\n",
    "  },\n",
    "  json=generation_body\n",
    ").json()\n",
    "\n",
    "save_response(generation_response, output_file_name)"
   ]
  },
  {
   "cell_type": "markdown",
   "id": "c1c06973",
   "metadata": {},
   "source": [
    "## Chat Completion using OpenAI's `o4-mini`"
   ]
  },
  {
   "cell_type": "code",
   "execution_count": 4,
   "id": "521bad41",
   "metadata": {},
   "outputs": [
    {
     "name": "stdout",
     "output_type": "stream",
     "text": [
      "{\n",
      "  \"id\": \"chatcmpl-C1GFZKmn21fl2pNOgas4T1EYiqkq5\",\n",
      "  \"choices\": [\n",
      "    {\n",
      "      \"finish_reason\": \"stop\",\n",
      "      \"index\": 0,\n",
      "      \"logprobs\": null,\n",
      "      \"message\": {\n",
      "        \"content\": \"Hello! I’m your virtual AI trainer. What would you like to learn or explore about artificial intelligence today?\",\n",
      "        \"refusal\": null,\n",
      "        \"role\": \"assistant\",\n",
      "        \"annotations\": []\n",
      "      },\n",
      "      \"content_filter_results\": {\n",
      "        \"hate\": {\n",
      "          \"filtered\": false,\n",
      "          \"severity\": \"safe\"\n",
      "        },\n",
      "        \"self_harm\": {\n",
      "          \"filtered\": false,\n",
      "          \"severity\": \"safe\"\n",
      "        },\n",
      "        \"sexual\": {\n",
      "          \"filtered\": false,\n",
      "          \"severity\": \"safe\"\n",
      "        },\n",
      "        \"violence\": {\n",
      "          \"filtered\": false,\n",
      "          \"severity\": \"safe\"\n",
      "        }\n",
      "      }\n",
      "    }\n",
      "  ],\n",
      "  \"created\": 1754416829,\n",
      "  \"model\": \"o4-mini-2025-04-16\",\n",
      "  \"object\": \"chat.completion\",\n",
      "  \"system_fingerprint\": null,\n",
      "  \"usage\": {\n",
      "    \"completion_tokens\": 297,\n",
      "    \"prompt_tokens\": 22,\n",
      "    \"total_tokens\": 319,\n",
      "    \"completion_tokens_details\": {\n",
      "      \"accepted_prediction_tokens\": 0,\n",
      "      \"audio_tokens\": 0,\n",
      "      \"reasoning_tokens\": 256,\n",
      "      \"rejected_prediction_tokens\": 0\n",
      "    },\n",
      "    \"prompt_tokens_details\": {\n",
      "      \"audio_tokens\": 0,\n",
      "      \"cached_tokens\": 0\n",
      "    }\n",
      "  },\n",
      "  \"prompt_filter_results\": [\n",
      "    {\n",
      "      \"prompt_index\": 0,\n",
      "      \"content_filter_results\": {}\n",
      "    }\n",
      "  ]\n",
      "}\n"
     ]
    }
   ],
   "source": [
    "from openai import AzureOpenAI\n",
    "import os\n",
    "\n",
    "\n",
    "endpoint = os.getenv(\"ENDPOINT_URL\", \"https://ats-aifoundry-resource.openai.azure.com/\")\n",
    "deployment = os.getenv(\"DEPLOYMENT_NAME\", \"o4-mini\")\n",
    "subscription_key = os.getenv(\"AZURE_OPENAI_API_KEY\")\n",
    "\n",
    "# Initialize Azure OpenAI client with key-based authentication\n",
    "client = AzureOpenAI(\n",
    "    azure_endpoint=endpoint,\n",
    "    api_key=subscription_key,\n",
    "    api_version=\"2025-01-01-preview\",\n",
    ")\n",
    "\n",
    "# Prepare the chat prompt\n",
    "chat_prompt = [\n",
    "    {\n",
    "        \"role\": \"developer\",\n",
    "        \"content\": [\n",
    "            {\n",
    "                \"type\": \"text\",\n",
    "                \"text\": \"You are a virtual AI trainer. Your task is to help students learn AI.\"\n",
    "            }\n",
    "        ]\n",
    "    }\n",
    "]\n",
    "\n",
    "# Include speech result if speech is enabled\n",
    "messages = chat_prompt\n",
    "\n",
    "# Generate the completion\n",
    "completion = client.chat.completions.create(\n",
    "    model=deployment,\n",
    "    messages=messages,\n",
    "    max_completion_tokens=1600,\n",
    "    stop=None,\n",
    "    stream=False\n",
    ")\n",
    "\n",
    "print(completion.to_json())"
   ]
  },
  {
   "cell_type": "code",
   "execution_count": 18,
   "id": "9b5f5ad7",
   "metadata": {},
   "outputs": [
    {
     "name": "stdout",
     "output_type": "stream",
     "text": [
      "Hello! I’m your virtual AI trainer. What would you like to learn or explore about artificial intelligence today?\n"
     ]
    }
   ],
   "source": [
    "print(completion.choices[0].message.content)"
   ]
  }
 ],
 "metadata": {
  "kernelspec": {
   "display_name": "venv",
   "language": "python",
   "name": "python3"
  },
  "language_info": {
   "codemirror_mode": {
    "name": "ipython",
    "version": 3
   },
   "file_extension": ".py",
   "mimetype": "text/x-python",
   "name": "python",
   "nbconvert_exporter": "python",
   "pygments_lexer": "ipython3",
   "version": "3.13.2"
  }
 },
 "nbformat": 4,
 "nbformat_minor": 5
}
